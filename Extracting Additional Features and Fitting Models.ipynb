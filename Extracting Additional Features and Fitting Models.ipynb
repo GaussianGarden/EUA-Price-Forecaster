{
 "cells": [
  {
   "cell_type": "markdown",
   "metadata": {},
   "source": [
    "# Extracting Additional Features and Fitting Models\n",
    "We have already worked with an ensemble of neural networks to model the settle price of EU ETS certificates. Next, we will use models that rely on the sample size to a smaller degree. Since neural networks are basically general function approximators, they can tune their intern parameters to closely match a function given only a sufficiently large sample. Other models are not necessarily as flexible but also have fewer degrees of freedom, thus requiring less input data for a reasonable fit. For this reason, we will spend some time extracting relevant features from the data."
   ]
  },
  {
   "cell_type": "code",
   "execution_count": 1,
   "metadata": {},
   "outputs": [],
   "source": [
    "import pandas as pd\n",
    "import seaborn as sns\n",
    "import numpy as np\n",
    "import matplotlib.pyplot as plt\n",
    "import os\n",
    "import preprocessing.numerical_data as pnd\n",
    "%matplotlib inline"
   ]
  },
  {
   "cell_type": "code",
   "execution_count": null,
   "metadata": {},
   "outputs": [],
   "source": []
  }
 ],
 "metadata": {
  "kernelspec": {
   "display_name": "Python 3",
   "language": "python",
   "name": "python3"
  },
  "language_info": {
   "codemirror_mode": {
    "name": "ipython",
    "version": 3
   },
   "file_extension": ".py",
   "mimetype": "text/x-python",
   "name": "python",
   "nbconvert_exporter": "python",
   "pygments_lexer": "ipython3",
   "version": "3.6.6"
  }
 },
 "nbformat": 4,
 "nbformat_minor": 2
}
