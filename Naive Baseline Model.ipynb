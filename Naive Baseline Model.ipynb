{
 "cells": [
  {
   "cell_type": "markdown",
   "metadata": {},
   "source": [
    "# Naive Baseline Model\n",
    "Probably the most naive approach for prediction of a time series is predicting a constant change of 0 compared to the previous observation. This is the baseline for any model we build. If we manage to beat this prediction, the model is actually valuable. Otherwise, it is not worth using."
   ]
  },
  {
   "cell_type": "code",
   "execution_count": 1,
   "metadata": {},
   "outputs": [],
   "source": [
    "import pandas as pd\n",
    "import seaborn as sns\n",
    "import numpy as np\n",
    "import matplotlib.pyplot as plt\n",
    "import os\n",
    "import preprocessing.numerical_data as pnd\n",
    "%matplotlib inline"
   ]
  },
  {
   "cell_type": "code",
   "execution_count": 2,
   "metadata": {},
   "outputs": [
    {
     "name": "stdout",
     "output_type": "stream",
     "text": [
      "<class 'pandas.core.frame.DataFrame'>\n",
      "DatetimeIndex: 994 entries, 2018-11-07 to 2015-01-02\n",
      "Data columns (total 25 columns):\n",
      "Open                       988 non-null float64\n",
      "High                       988 non-null float64\n",
      "Low                        988 non-null float64\n",
      "Settle                     994 non-null float64\n",
      "Change                     984 non-null float64\n",
      "Volume                     988 non-null float64\n",
      "Prev. Day Open Interest    993 non-null float64\n",
      "Gas.Open                   990 non-null float64\n",
      "Gas.High                   990 non-null float64\n",
      "Gas.Low                    990 non-null float64\n",
      "Gas.Settle                 994 non-null float64\n",
      "Gas.Change                 984 non-null float64\n",
      "Gas.Volume                 984 non-null float64\n",
      "Coal.Open                  994 non-null float64\n",
      "Coal.High                  994 non-null float64\n",
      "Coal.Low                   994 non-null float64\n",
      "Coal.Settle                994 non-null float64\n",
      "Coal.Change                994 non-null float64\n",
      "Coal.Volume                994 non-null float64\n",
      "Oil.Open                   994 non-null float64\n",
      "Oil.High                   994 non-null float64\n",
      "Oil.Low                    994 non-null float64\n",
      "Oil.Settle                 994 non-null float64\n",
      "Oil.Change                 994 non-null float64\n",
      "Oil.Volume                 994 non-null float64\n",
      "dtypes: float64(25)\n",
      "memory usage: 201.9 KB\n"
     ]
    }
   ],
   "source": [
    "df = pd.read_csv(os.path.join(\"data\", \"raw\", \"input.csv\"), sep=\";\", index_col=0, parse_dates=[0], dtype=np.float64)\n",
    "df.info()"
   ]
  },
  {
   "cell_type": "code",
   "execution_count": 3,
   "metadata": {},
   "outputs": [],
   "source": [
    "df = pnd.chain_preparations(df)\n",
    "loggable_columns = [col for col in df.columns if any(word in col for word in (\"Open\", \"High\", \"Low\", \"Settle\"))\n",
    "                   and not \"Interest\" in col]\n",
    "df[loggable_columns] = (df[loggable_columns] + 1).apply(np.log)"
   ]
  },
  {
   "cell_type": "markdown",
   "metadata": {},
   "source": [
    "The naive model will always predict the settle value of the previous day as the settle value of each day. We can easily mock these predictions with the DataFrame containing our preprocessed data."
   ]
  },
  {
   "cell_type": "code",
   "execution_count": 10,
   "metadata": {},
   "outputs": [],
   "source": [
    "errors = (np.exp(df[\"Settle\"]) - np.exp(df[\"Prev. Day Settle\"])).values"
   ]
  },
  {
   "cell_type": "code",
   "execution_count": 14,
   "metadata": {},
   "outputs": [
    {
     "name": "stderr",
     "output_type": "stream",
     "text": [
      "c:\\program files\\python36\\lib\\site-packages\\scipy\\stats\\stats.py:1713: FutureWarning: Using a non-tuple sequence for multidimensional indexing is deprecated; use `arr[tuple(seq)]` instead of `arr[seq]`. In the future this will be interpreted as an array index, `arr[np.array(seq)]`, which will result either in an error or a different result.\n",
      "  return np.add.reduce(sorted[indexer] * weights, axis=axis) / sumval\n"
     ]
    },
    {
     "name": "stdout",
     "output_type": "stream",
     "text": [
      "Error Mean: 0.012343268242548815\n",
      "Error Standard Deviation: 0.30479713510517104\n",
      "MSE: 0.3048904239335371\n"
     ]
    },
    {
     "data": {
      "image/png": "[encoded data removed]",
      "text/plain": [
       "<Figure size 432x288 with 1 Axes>"
      ]
     },
     "metadata": {
      "needs_background": "light"
     },
     "output_type": "display_data"
    }
   ],
   "source": [
    "sns.distplot(errors)\n",
    "print(\"Error Mean:\", errors.mean())\n",
    "print(\"Error Standard Deviation:\", errors.std(ddof=1))\n",
    "print(\"MSE:\", np.sqrt(np.square(errors).mean()))"
   ]
  },
  {
   "cell_type": "markdown",
   "metadata": {},
   "source": [
    "We can see that the naive model is off by 30 cents, on average. A machine learning model should learn associations that cannot be captured by this naive approach. Consequently, we aim to obtain a model that has a MSE of less than .3."
   ]
  },
  {
   "cell_type": "code",
   "execution_count": null,
   "metadata": {},
   "outputs": [],
   "source": []
  }
 ],
 "metadata": {
  "kernelspec": {
   "display_name": "Python 3",
   "language": "python",
   "name": "python3"
  },
  "language_info": {
   "codemirror_mode": {
    "name": "ipython",
    "version": 3
   },
   "file_extension": ".py",
   "mimetype": "text/x-python",
   "name": "python",
   "nbconvert_exporter": "python",
   "pygments_lexer": "ipython3",
   "version": "3.6.6"
  }
 },
 "nbformat": 4,
 "nbformat_minor": 2
}
